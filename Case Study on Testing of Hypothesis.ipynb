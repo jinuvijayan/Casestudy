{
 "cells": [
  {
   "cell_type": "markdown",
   "id": "986c221e",
   "metadata": {},
   "source": [
    "## To clarify whether there is any increase in sales after stepping into digital marketing"
   ]
  },
  {
   "cell_type": "code",
   "execution_count": 1,
   "id": "e51bebcf",
   "metadata": {},
   "outputs": [],
   "source": [
    "import numpy as np\n",
    "import pandas as pd"
   ]
  },
  {
   "cell_type": "code",
   "execution_count": 2,
   "id": "3a80aa01",
   "metadata": {},
   "outputs": [
    {
     "data": {
      "text/html": [
       "<div>\n",
       "<style scoped>\n",
       "    .dataframe tbody tr th:only-of-type {\n",
       "        vertical-align: middle;\n",
       "    }\n",
       "\n",
       "    .dataframe tbody tr th {\n",
       "        vertical-align: top;\n",
       "    }\n",
       "\n",
       "    .dataframe thead th {\n",
       "        text-align: right;\n",
       "    }\n",
       "</style>\n",
       "<table border=\"1\" class=\"dataframe\">\n",
       "  <thead>\n",
       "    <tr style=\"text-align: right;\">\n",
       "      <th></th>\n",
       "      <th>Month</th>\n",
       "      <th>Region</th>\n",
       "      <th>Manager</th>\n",
       "      <th>Sales_before_digital_add(in $)</th>\n",
       "      <th>Sales_After_digital_add(in $)</th>\n",
       "    </tr>\n",
       "  </thead>\n",
       "  <tbody>\n",
       "    <tr>\n",
       "      <th>0</th>\n",
       "      <td>Month-1</td>\n",
       "      <td>Region - A</td>\n",
       "      <td>Manager - A</td>\n",
       "      <td>132921</td>\n",
       "      <td>270390</td>\n",
       "    </tr>\n",
       "    <tr>\n",
       "      <th>1</th>\n",
       "      <td>Month-2</td>\n",
       "      <td>Region - A</td>\n",
       "      <td>Manager - C</td>\n",
       "      <td>149559</td>\n",
       "      <td>223334</td>\n",
       "    </tr>\n",
       "    <tr>\n",
       "      <th>2</th>\n",
       "      <td>Month-3</td>\n",
       "      <td>Region - B</td>\n",
       "      <td>Manager - A</td>\n",
       "      <td>146278</td>\n",
       "      <td>244243</td>\n",
       "    </tr>\n",
       "    <tr>\n",
       "      <th>3</th>\n",
       "      <td>Month-4</td>\n",
       "      <td>Region - B</td>\n",
       "      <td>Manager - B</td>\n",
       "      <td>152167</td>\n",
       "      <td>231808</td>\n",
       "    </tr>\n",
       "    <tr>\n",
       "      <th>4</th>\n",
       "      <td>Month-5</td>\n",
       "      <td>Region - C</td>\n",
       "      <td>Manager - B</td>\n",
       "      <td>159525</td>\n",
       "      <td>258402</td>\n",
       "    </tr>\n",
       "    <tr>\n",
       "      <th>5</th>\n",
       "      <td>Month-6</td>\n",
       "      <td>Region - A</td>\n",
       "      <td>Manager - B</td>\n",
       "      <td>137163</td>\n",
       "      <td>256948</td>\n",
       "    </tr>\n",
       "    <tr>\n",
       "      <th>6</th>\n",
       "      <td>Month-7</td>\n",
       "      <td>Region - C</td>\n",
       "      <td>Manager - C</td>\n",
       "      <td>130625</td>\n",
       "      <td>222106</td>\n",
       "    </tr>\n",
       "    <tr>\n",
       "      <th>7</th>\n",
       "      <td>Month-8</td>\n",
       "      <td>Region - A</td>\n",
       "      <td>Manager - A</td>\n",
       "      <td>131140</td>\n",
       "      <td>230637</td>\n",
       "    </tr>\n",
       "    <tr>\n",
       "      <th>8</th>\n",
       "      <td>Month-9</td>\n",
       "      <td>Region - B</td>\n",
       "      <td>Manager - C</td>\n",
       "      <td>171259</td>\n",
       "      <td>226261</td>\n",
       "    </tr>\n",
       "    <tr>\n",
       "      <th>9</th>\n",
       "      <td>Month-10</td>\n",
       "      <td>Region - C</td>\n",
       "      <td>Manager - B</td>\n",
       "      <td>141956</td>\n",
       "      <td>193735</td>\n",
       "    </tr>\n",
       "    <tr>\n",
       "      <th>10</th>\n",
       "      <td>Month-11</td>\n",
       "      <td>Region - B</td>\n",
       "      <td>Manager - C</td>\n",
       "      <td>159339</td>\n",
       "      <td>203175</td>\n",
       "    </tr>\n",
       "    <tr>\n",
       "      <th>11</th>\n",
       "      <td>Month-12</td>\n",
       "      <td>Region - A</td>\n",
       "      <td>Manager - A</td>\n",
       "      <td>178939</td>\n",
       "      <td>276279</td>\n",
       "    </tr>\n",
       "    <tr>\n",
       "      <th>12</th>\n",
       "      <td>Month-13</td>\n",
       "      <td>Region - B</td>\n",
       "      <td>Manager - A</td>\n",
       "      <td>145062</td>\n",
       "      <td>205180</td>\n",
       "    </tr>\n",
       "    <tr>\n",
       "      <th>13</th>\n",
       "      <td>Month-14</td>\n",
       "      <td>Region - A</td>\n",
       "      <td>Manager - A</td>\n",
       "      <td>151514</td>\n",
       "      <td>253131</td>\n",
       "    </tr>\n",
       "    <tr>\n",
       "      <th>14</th>\n",
       "      <td>Month-15</td>\n",
       "      <td>Region - C</td>\n",
       "      <td>Manager - A</td>\n",
       "      <td>147463</td>\n",
       "      <td>229336</td>\n",
       "    </tr>\n",
       "    <tr>\n",
       "      <th>15</th>\n",
       "      <td>Month-16</td>\n",
       "      <td>Region - A</td>\n",
       "      <td>Manager - B</td>\n",
       "      <td>177195</td>\n",
       "      <td>187305</td>\n",
       "    </tr>\n",
       "    <tr>\n",
       "      <th>16</th>\n",
       "      <td>Month-17</td>\n",
       "      <td>Region - A</td>\n",
       "      <td>Manager - C</td>\n",
       "      <td>140862</td>\n",
       "      <td>234908</td>\n",
       "    </tr>\n",
       "    <tr>\n",
       "      <th>17</th>\n",
       "      <td>Month-18</td>\n",
       "      <td>Region - C</td>\n",
       "      <td>Manager - B</td>\n",
       "      <td>167996</td>\n",
       "      <td>191517</td>\n",
       "    </tr>\n",
       "    <tr>\n",
       "      <th>18</th>\n",
       "      <td>Month-19</td>\n",
       "      <td>Region - B</td>\n",
       "      <td>Manager - A</td>\n",
       "      <td>132135</td>\n",
       "      <td>227040</td>\n",
       "    </tr>\n",
       "    <tr>\n",
       "      <th>19</th>\n",
       "      <td>Month-20</td>\n",
       "      <td>Region - A</td>\n",
       "      <td>Manager - B</td>\n",
       "      <td>152493</td>\n",
       "      <td>212579</td>\n",
       "    </tr>\n",
       "    <tr>\n",
       "      <th>20</th>\n",
       "      <td>Month-21</td>\n",
       "      <td>Region - B</td>\n",
       "      <td>Manager - A</td>\n",
       "      <td>147425</td>\n",
       "      <td>263388</td>\n",
       "    </tr>\n",
       "    <tr>\n",
       "      <th>21</th>\n",
       "      <td>Month-22</td>\n",
       "      <td>Region - A</td>\n",
       "      <td>Manager - C</td>\n",
       "      <td>130263</td>\n",
       "      <td>243020</td>\n",
       "    </tr>\n",
       "  </tbody>\n",
       "</table>\n",
       "</div>"
      ],
      "text/plain": [
       "       Month      Region      Manager  Sales_before_digital_add(in $)  \\\n",
       "0    Month-1  Region - A  Manager - A                          132921   \n",
       "1    Month-2  Region - A  Manager - C                          149559   \n",
       "2    Month-3  Region - B  Manager - A                          146278   \n",
       "3    Month-4  Region - B  Manager - B                          152167   \n",
       "4    Month-5  Region - C  Manager - B                          159525   \n",
       "5    Month-6  Region - A  Manager - B                          137163   \n",
       "6    Month-7  Region - C  Manager - C                          130625   \n",
       "7    Month-8  Region - A  Manager - A                          131140   \n",
       "8    Month-9  Region - B  Manager - C                          171259   \n",
       "9   Month-10  Region - C  Manager - B                          141956   \n",
       "10  Month-11  Region - B  Manager - C                          159339   \n",
       "11  Month-12  Region - A  Manager - A                          178939   \n",
       "12  Month-13  Region - B  Manager - A                          145062   \n",
       "13  Month-14  Region - A  Manager - A                          151514   \n",
       "14  Month-15  Region - C  Manager - A                          147463   \n",
       "15  Month-16  Region - A  Manager - B                          177195   \n",
       "16  Month-17  Region - A  Manager - C                          140862   \n",
       "17  Month-18  Region - C  Manager - B                          167996   \n",
       "18  Month-19  Region - B  Manager - A                          132135   \n",
       "19  Month-20  Region - A  Manager - B                          152493   \n",
       "20  Month-21  Region - B  Manager - A                          147425   \n",
       "21  Month-22  Region - A  Manager - C                          130263   \n",
       "\n",
       "    Sales_After_digital_add(in $)  \n",
       "0                          270390  \n",
       "1                          223334  \n",
       "2                          244243  \n",
       "3                          231808  \n",
       "4                          258402  \n",
       "5                          256948  \n",
       "6                          222106  \n",
       "7                          230637  \n",
       "8                          226261  \n",
       "9                          193735  \n",
       "10                         203175  \n",
       "11                         276279  \n",
       "12                         205180  \n",
       "13                         253131  \n",
       "14                         229336  \n",
       "15                         187305  \n",
       "16                         234908  \n",
       "17                         191517  \n",
       "18                         227040  \n",
       "19                         212579  \n",
       "20                         263388  \n",
       "21                         243020  "
      ]
     },
     "execution_count": 2,
     "metadata": {},
     "output_type": "execute_result"
    }
   ],
   "source": [
    "data=pd.read_csv(r'C:\\Users\\jinuv\\Desktop\\Python programs\\Casestudy on testing of Hypothesis\\Sales_add.csv')\n",
    "data"
   ]
  },
  {
   "cell_type": "code",
   "execution_count": 3,
   "id": "4f64817b",
   "metadata": {},
   "outputs": [],
   "source": [
    "from scipy.stats import ttest_ind"
   ]
  },
  {
   "cell_type": "code",
   "execution_count": 4,
   "id": "0446a03a",
   "metadata": {},
   "outputs": [],
   "source": [
    "t_stat,p_val=ttest_ind(data['Sales_before_digital_add(in $)'],data['Sales_After_digital_add(in $)'])"
   ]
  },
  {
   "cell_type": "code",
   "execution_count": 5,
   "id": "78fce0f1",
   "metadata": {},
   "outputs": [
    {
     "data": {
      "text/plain": [
       "2.614368006904645e-16"
      ]
     },
     "execution_count": 5,
     "metadata": {},
     "output_type": "execute_result"
    }
   ],
   "source": [
    "p_val"
   ]
  },
  {
   "cell_type": "code",
   "execution_count": 6,
   "id": "26a17c74",
   "metadata": {},
   "outputs": [
    {
     "name": "stdout",
     "output_type": "stream",
     "text": [
      "Reject Null Hypothesis\n"
     ]
    }
   ],
   "source": [
    "if p_val<0.05:\n",
    "    print('Reject Null Hypothesis')\n",
    "else:\n",
    "    print('Accept Null Hypothesis')"
   ]
  },
  {
   "cell_type": "markdown",
   "id": "1fb78a94",
   "metadata": {},
   "source": [
    "## To check whether there is any dependency between the features “Region” and “Manager”"
   ]
  },
  {
   "cell_type": "code",
   "execution_count": 7,
   "id": "50e39612",
   "metadata": {},
   "outputs": [],
   "source": [
    "from scipy.stats import chisquare"
   ]
  },
  {
   "cell_type": "code",
   "execution_count": 9,
   "id": "535855bc",
   "metadata": {},
   "outputs": [
    {
     "ename": "ValueError",
     "evalue": "could not convert string to float: 'Region - A'",
     "output_type": "error",
     "traceback": [
      "\u001b[1;31m---------------------------------------------------------------------------\u001b[0m",
      "\u001b[1;31mValueError\u001b[0m                                Traceback (most recent call last)",
      "Cell \u001b[1;32mIn[9], line 1\u001b[0m\n\u001b[1;32m----> 1\u001b[0m chi_stat,p_val1\u001b[38;5;241m=\u001b[39m\u001b[43mchisquare\u001b[49m\u001b[43m(\u001b[49m\u001b[43mf_obs\u001b[49m\u001b[38;5;241;43m=\u001b[39;49m\u001b[43mdata\u001b[49m\u001b[43m[\u001b[49m\u001b[38;5;124;43m'\u001b[39;49m\u001b[38;5;124;43mRegion\u001b[39;49m\u001b[38;5;124;43m'\u001b[39;49m\u001b[43m]\u001b[49m\u001b[43m,\u001b[49m\u001b[43mf_exp\u001b[49m\u001b[38;5;241;43m=\u001b[39;49m\u001b[43mdata\u001b[49m\u001b[43m[\u001b[49m\u001b[38;5;124;43m'\u001b[39;49m\u001b[38;5;124;43mManager\u001b[39;49m\u001b[38;5;124;43m'\u001b[39;49m\u001b[43m]\u001b[49m\u001b[43m)\u001b[49m\n\u001b[0;32m      2\u001b[0m p_val1\n",
      "File \u001b[1;32mC:\\ProgramData\\anaconda3\\lib\\site-packages\\scipy\\stats\\_stats_py.py:7558\u001b[0m, in \u001b[0;36mchisquare\u001b[1;34m(f_obs, f_exp, ddof, axis)\u001b[0m\n\u001b[0;32m   7433\u001b[0m \u001b[38;5;28;01mdef\u001b[39;00m \u001b[38;5;21mchisquare\u001b[39m(f_obs, f_exp\u001b[38;5;241m=\u001b[39m\u001b[38;5;28;01mNone\u001b[39;00m, ddof\u001b[38;5;241m=\u001b[39m\u001b[38;5;241m0\u001b[39m, axis\u001b[38;5;241m=\u001b[39m\u001b[38;5;241m0\u001b[39m):\n\u001b[0;32m   7434\u001b[0m     \u001b[38;5;124;03m\"\"\"Calculate a one-way chi-square test.\u001b[39;00m\n\u001b[0;32m   7435\u001b[0m \n\u001b[0;32m   7436\u001b[0m \u001b[38;5;124;03m    The chi-square test tests the null hypothesis that the categorical data\u001b[39;00m\n\u001b[1;32m   (...)\u001b[0m\n\u001b[0;32m   7556\u001b[0m \n\u001b[0;32m   7557\u001b[0m \u001b[38;5;124;03m    \"\"\"\u001b[39;00m\n\u001b[1;32m-> 7558\u001b[0m     \u001b[38;5;28;01mreturn\u001b[39;00m \u001b[43mpower_divergence\u001b[49m\u001b[43m(\u001b[49m\u001b[43mf_obs\u001b[49m\u001b[43m,\u001b[49m\u001b[43m \u001b[49m\u001b[43mf_exp\u001b[49m\u001b[38;5;241;43m=\u001b[39;49m\u001b[43mf_exp\u001b[49m\u001b[43m,\u001b[49m\u001b[43m \u001b[49m\u001b[43mddof\u001b[49m\u001b[38;5;241;43m=\u001b[39;49m\u001b[43mddof\u001b[49m\u001b[43m,\u001b[49m\u001b[43m \u001b[49m\u001b[43maxis\u001b[49m\u001b[38;5;241;43m=\u001b[39;49m\u001b[43maxis\u001b[49m\u001b[43m,\u001b[49m\n\u001b[0;32m   7559\u001b[0m \u001b[43m                            \u001b[49m\u001b[43mlambda_\u001b[49m\u001b[38;5;241;43m=\u001b[39;49m\u001b[38;5;124;43m\"\u001b[39;49m\u001b[38;5;124;43mpearson\u001b[39;49m\u001b[38;5;124;43m\"\u001b[39;49m\u001b[43m)\u001b[49m\n",
      "File \u001b[1;32mC:\\ProgramData\\anaconda3\\lib\\site-packages\\scipy\\stats\\_stats_py.py:7379\u001b[0m, in \u001b[0;36mpower_divergence\u001b[1;34m(f_obs, f_exp, ddof, axis, lambda_)\u001b[0m\n\u001b[0;32m   7376\u001b[0m     lambda_ \u001b[38;5;241m=\u001b[39m \u001b[38;5;241m1\u001b[39m\n\u001b[0;32m   7378\u001b[0m f_obs \u001b[38;5;241m=\u001b[39m np\u001b[38;5;241m.\u001b[39masanyarray(f_obs)\n\u001b[1;32m-> 7379\u001b[0m f_obs_float \u001b[38;5;241m=\u001b[39m \u001b[43mf_obs\u001b[49m\u001b[38;5;241;43m.\u001b[39;49m\u001b[43mastype\u001b[49m\u001b[43m(\u001b[49m\u001b[43mnp\u001b[49m\u001b[38;5;241;43m.\u001b[39;49m\u001b[43mfloat64\u001b[49m\u001b[43m)\u001b[49m\n\u001b[0;32m   7381\u001b[0m \u001b[38;5;28;01mif\u001b[39;00m f_exp \u001b[38;5;129;01mis\u001b[39;00m \u001b[38;5;129;01mnot\u001b[39;00m \u001b[38;5;28;01mNone\u001b[39;00m:\n\u001b[0;32m   7382\u001b[0m     f_exp \u001b[38;5;241m=\u001b[39m np\u001b[38;5;241m.\u001b[39masanyarray(f_exp)\n",
      "\u001b[1;31mValueError\u001b[0m: could not convert string to float: 'Region - A'"
     ]
    }
   ],
   "source": [
    "chi_stat,p_val1=chisquare(f_obs=data['Region'],f_exp=data['Manager'])\n",
    "p_val1"
   ]
  },
  {
   "cell_type": "code",
   "execution_count": 11,
   "id": "86e76940",
   "metadata": {},
   "outputs": [
    {
     "ename": "NameError",
     "evalue": "name 'p_val1' is not defined",
     "output_type": "error",
     "traceback": [
      "\u001b[1;31m---------------------------------------------------------------------------\u001b[0m",
      "\u001b[1;31mNameError\u001b[0m                                 Traceback (most recent call last)",
      "Cell \u001b[1;32mIn[11], line 1\u001b[0m\n\u001b[1;32m----> 1\u001b[0m \u001b[38;5;28;01mif\u001b[39;00m \u001b[43mp_val1\u001b[49m\u001b[38;5;241m<\u001b[39m\u001b[38;5;241m0.05\u001b[39m:\n\u001b[0;32m      2\u001b[0m     \u001b[38;5;28mprint\u001b[39m(\u001b[38;5;124m'\u001b[39m\u001b[38;5;124mReject Null Hypothesis\u001b[39m\u001b[38;5;124m'\u001b[39m)\n\u001b[0;32m      3\u001b[0m \u001b[38;5;28;01melse\u001b[39;00m:\n",
      "\u001b[1;31mNameError\u001b[0m: name 'p_val1' is not defined"
     ]
    }
   ],
   "source": [
    "if p_val1<0.05:\n",
    "    print('Reject Null Hypothesis')\n",
    "else:\n",
    "    print('Accept Null Hypothesis')"
   ]
  },
  {
   "cell_type": "code",
   "execution_count": null,
   "id": "a3e76d25",
   "metadata": {},
   "outputs": [],
   "source": []
  }
 ],
 "metadata": {
  "kernelspec": {
   "display_name": "Python 3 (ipykernel)",
   "language": "python",
   "name": "python3"
  },
  "language_info": {
   "codemirror_mode": {
    "name": "ipython",
    "version": 3
   },
   "file_extension": ".py",
   "mimetype": "text/x-python",
   "name": "python",
   "nbconvert_exporter": "python",
   "pygments_lexer": "ipython3",
   "version": "3.10.9"
  }
 },
 "nbformat": 4,
 "nbformat_minor": 5
}
